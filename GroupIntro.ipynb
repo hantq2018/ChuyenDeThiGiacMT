{
  "nbformat": 4,
  "nbformat_minor": 0,
  "metadata": {
    "colab": {
      "name": "GroupIntro.ipynb",
      "provenance": [],
      "authorship_tag": "ABX9TyMn50zVq80BJQ4qxWIAzqyZ",
      "include_colab_link": true
    },
    "kernelspec": {
      "name": "python3",
      "display_name": "Python 3"
    }
  },
  "cells": [
    {
      "cell_type": "markdown",
      "metadata": {
        "id": "view-in-github",
        "colab_type": "text"
      },
      "source": [
        "<a href=\"https://colab.research.google.com/github/hantq2018/ChuyenDeThiGiacMT/blob/master/GroupIntro.ipynb\" target=\"_parent\"><img src=\"https://colab.research.google.com/assets/colab-badge.svg\" alt=\"Open In Colab\"/></a>"
      ]
    },
    {
      "cell_type": "code",
      "metadata": {
        "id": "8g9davWXdFLg",
        "colab_type": "code",
        "colab": {}
      },
      "source": [
        "Bùi Tổng Nha - CH1801033\n",
        "Trần Quang Hân - CH1801027\n",
        "Châu Ngọc Long Giang - CH1801026"
      ],
      "execution_count": null,
      "outputs": []
    }
  ]
}